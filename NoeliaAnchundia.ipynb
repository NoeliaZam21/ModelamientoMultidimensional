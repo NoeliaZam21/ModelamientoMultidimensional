{
  "nbformat": 4,
  "nbformat_minor": 0,
  "metadata": {
    "colab": {
      "name": "NoeliaAnchundia.ipynb",
      "provenance": []
    },
    "kernelspec": {
      "name": "python3",
      "display_name": "Python 3"
    },
    "language_info": {
      "name": "python"
    }
  },
  "cells": [
    {
      "cell_type": "markdown",
      "source": [
        "# LABORATORIO 3"
      ],
      "metadata": {
        "id": "DTuDD8WdYwGG"
      }
    },
    {
      "cell_type": "markdown",
      "source": [
        "LIBRERIAS"
      ],
      "metadata": {
        "id": "nUbJB9Y9ZW78"
      }
    },
    {
      "cell_type": "code",
      "source": [
        "import pandas as pd\n",
        "import sqlalchemy\n",
        "from datetime import date\n",
        "from datetime import timedelta"
      ],
      "metadata": {
        "id": "4jD1lz4sZViu"
      },
      "execution_count": 1,
      "outputs": []
    },
    {
      "cell_type": "markdown",
      "source": [
        "CONEXION A LA BASE DE DATOS CHINOOK"
      ],
      "metadata": {
        "id": "J4UpdZGtY8jb"
      }
    },
    {
      "cell_type": "code",
      "execution_count": 24,
      "metadata": {
        "id": "IbdxIjjcZj08"
      },
      "outputs": [],
      "source": [
        "path = \"sqlite:///chinook.db\"\n",
        "motorDB = sqlalchemy.create_engine(path)\n",
        "conectarDB = motorDB.connect()"
      ]
    },
    {
      "cell_type": "markdown",
      "source": [
        "CONEXION A LA BASE DE DATOS NA_DW_Sale_Music"
      ],
      "metadata": {
        "id": "LimeTWkiZuvt"
      }
    },
    {
      "cell_type": "code",
      "execution_count": 25,
      "metadata": {
        "id": "5wjHZCohZvjt"
      },
      "outputs": [],
      "source": [
        "path2 = \"sqlite:///NA_DW_Sale_Music.db\"\n",
        "motorDB2 = sqlalchemy.create_engine(path2)\n",
        "conectarDB2 = motorDB2.connect()"
      ]
    },
    {
      "cell_type": "markdown",
      "source": [
        "#EXTRACCIÓN\n"
      ],
      "metadata": {
        "id": "VmVnZGGWgk63"
      }
    },
    {
      "cell_type": "markdown",
      "source": [
        "EXTRACCION DE LOS DATOS DE LA DIMENSIÓN ALBUMS"
      ],
      "metadata": {
        "id": "fTxz9YIxcgaH"
      }
    },
    {
      "cell_type": "code",
      "source": [
        "query_album = '''SELECT Title AS Title_Album FROM albums;'''\n",
        "resultAlbums = conectarDB.execute(query_album)\n",
        "df_Albums = pd.DataFrame(resultAlbums.fetchall())\n",
        "df_Albums.columns = resultAlbums.keys()\n",
        "print(df_Albums)"
      ],
      "metadata": {
        "colab": {
          "base_uri": "https://localhost:8080/"
        },
        "id": "eKGkx2Xvc3Dt",
        "outputId": "7967c78e-85ba-43b4-91d8-a2222c9ea118"
      },
      "execution_count": 4,
      "outputs": [
        {
          "output_type": "stream",
          "name": "stdout",
          "text": [
            "                                           Title_Album\n",
            "0                For Those About To Rock We Salute You\n",
            "1                                    Balls to the Wall\n",
            "2                                    Restless and Wild\n",
            "3                                    Let There Be Rock\n",
            "4                                             Big Ones\n",
            "..                                                 ...\n",
            "342                             Respighi:Pines of Rome\n",
            "343  Schubert: The Late String Quartets & String Qu...\n",
            "344                                Monteverdi: L'Orfeo\n",
            "345                              Mozart: Chamber Music\n",
            "346  Koyaanisqatsi (Soundtrack from the Motion Pict...\n",
            "\n",
            "[347 rows x 1 columns]\n"
          ]
        }
      ]
    },
    {
      "cell_type": "markdown",
      "source": [
        "EXTRACCION DE LOS DATOS DE LA DIMENSIÓN ARTISTS"
      ],
      "metadata": {
        "id": "ga9huBRQdhws"
      }
    },
    {
      "cell_type": "code",
      "source": [
        "query_artist = '''SELECT Name AS Name_Artist FROM artists;'''\n",
        "result_artist = conectarDB.execute(query_artist)\n",
        "df_artist = pd.DataFrame(result_artist.fetchall())\n",
        "df_artist.columns = result_artist.keys()\n",
        "print(df_artist)"
      ],
      "metadata": {
        "colab": {
          "base_uri": "https://localhost:8080/"
        },
        "id": "71uMQEfsdu3F",
        "outputId": "99cf276b-8fcc-42b2-f0fd-7c608aec135a"
      },
      "execution_count": 5,
      "outputs": [
        {
          "output_type": "stream",
          "name": "stdout",
          "text": [
            "                                           Name_Artist\n",
            "0                                                AC/DC\n",
            "1                                               Accept\n",
            "2                                            Aerosmith\n",
            "3                                    Alanis Morissette\n",
            "4                                      Alice In Chains\n",
            "..                                                 ...\n",
            "270   Mela Tenenbaum, Pro Musica Prague & Richard Kapp\n",
            "271                             Emerson String Quartet\n",
            "272  C. Monteverdi, Nigel Rogers - Chiaroscuro; Lon...\n",
            "273                                      Nash Ensemble\n",
            "274                              Philip Glass Ensemble\n",
            "\n",
            "[275 rows x 1 columns]\n"
          ]
        }
      ]
    },
    {
      "cell_type": "markdown",
      "source": [
        "EXTRACCION DE LOS DATOS DE LA DIMENSIÓN CUSTOMERS"
      ],
      "metadata": {
        "id": "vhyABGtOdm3A"
      }
    },
    {
      "cell_type": "code",
      "source": [
        "query_customer = '''SELECT FirstName,LastName,Phone,Email \n",
        "                    FROM customers;'''\n",
        "result_customer = conectarDB.execute(query_customer)\n",
        "df_customer = pd.DataFrame(result_customer.fetchall())\n",
        "df_customer.columns = result_customer.keys()\n",
        "print(df_customer)"
      ],
      "metadata": {
        "colab": {
          "base_uri": "https://localhost:8080/"
        },
        "id": "9ftWeTHQeg13",
        "outputId": "80560ed0-49ed-4f21-9298-47ac56b3e7e6"
      },
      "execution_count": 6,
      "outputs": [
        {
          "output_type": "stream",
          "name": "stdout",
          "text": [
            "    FirstName      LastName                Phone                          Email\n",
            "0        Luís     Gonçalves   +55 (12) 3923-5555           luisg@embraer.com.br\n",
            "1      Leonie        Köhler     +49 0711 2842222          leonekohler@surfeu.de\n",
            "2    François      Tremblay    +1 (514) 721-4711            ftremblay@gmail.com\n",
            "3       Bjørn        Hansen      +47 22 44 22 22          bjorn.hansen@yahoo.no\n",
            "4   František   Wichterlová     +420 2 4172 5555       frantisekw@jetbrains.com\n",
            "5      Helena          Holý     +420 2 4177 0449                hholy@gmail.com\n",
            "6      Astrid        Gruber       +43 01 5134505         astrid.gruber@apple.at\n",
            "7        Daan       Peeters     +32 02 219 03 03          daan_peeters@apple.be\n",
            "8        Kara       Nielsen       +453 3331 9991          kara.nielsen@jubii.dk\n",
            "9     Eduardo       Martins   +55 (11) 3033-5446       eduardo@woodstock.com.br\n",
            "10  Alexandre         Rocha   +55 (11) 3055-3278               alero@uol.com.br\n",
            "11    Roberto       Almeida   +55 (21) 2271-7000  roberto.almeida@riotur.gov.br\n",
            "12   Fernanda         Ramos   +55 (61) 3363-5547       fernadaramos4@uol.com.br\n",
            "13       Mark       Philips    +1 (780) 434-4554             mphilips12@shaw.ca\n",
            "14   Jennifer      Peterson    +1 (604) 688-2255            jenniferp@rogers.ca\n",
            "15      Frank        Harris    +1 (650) 253-0000             fharris@google.com\n",
            "16       Jack         Smith    +1 (425) 882-8080        jacksmith@microsoft.com\n",
            "17   Michelle        Brooks    +1 (212) 221-3546              michelleb@aol.com\n",
            "18        Tim         Goyer    +1 (408) 996-1010               tgoyer@apple.com\n",
            "19        Dan        Miller    +1 (650) 644-3358            dmiller@comcast.com\n",
            "20      Kathy         Chase    +1 (775) 223-7665            kachase@hotmail.com\n",
            "21    Heather       Leacock    +1 (407) 999-7788             hleacock@gmail.com\n",
            "22       John        Gordon    +1 (617) 522-1333         johngordon22@yahoo.com\n",
            "23      Frank       Ralston    +1 (312) 332-3232             fralston@gmail.com\n",
            "24     Victor       Stevens    +1 (608) 257-0597             vstevens@yahoo.com\n",
            "25    Richard    Cunningham    +1 (817) 924-7272       ricunningham@hotmail.com\n",
            "26    Patrick          Gray    +1 (520) 622-4200           patrick.gray@aol.com\n",
            "27      Julia       Barnett    +1 (801) 531-7272            jubarnett@gmail.com\n",
            "28     Robert         Brown    +1 (416) 363-8888               robbrown@shaw.ca\n",
            "29     Edward       Francis    +1 (613) 234-3322            edfrancis@yachoo.ca\n",
            "30     Martha          Silk    +1 (902) 450-0450           marthasilk@gmail.com\n",
            "31      Aaron      Mitchell    +1 (204) 452-6452         aaronmitchell@yahoo.ca\n",
            "32      Ellie      Sullivan    +1 (867) 920-2233         ellie.sullivan@shaw.ca\n",
            "33       João     Fernandes   +351 (213) 466-111            jfernandes@yahoo.pt\n",
            "34   Madalena       Sampaio   +351 (225) 022-448              masampaio@sapo.pt\n",
            "35     Hannah     Schneider     +49 030 26550280      hannah.schneider@yahoo.de\n",
            "36       Fynn    Zimmermann     +49 069 40598889           fzimmermann@yahoo.de\n",
            "37     Niklas      Schröder      +49 030 2141444            nschroder@surfeu.de\n",
            "38    Camille       Bernard   +33 01 49 70 65 65       camille.bernard@yahoo.fr\n",
            "39  Dominique      Lefebvre   +33 01 47 42 71 71    dominiquelefebvre@gmail.com\n",
            "40       Marc        Dubois   +33 04 78 30 30 30        marc.dubois@hotmail.com\n",
            "41      Wyatt        Girard   +33 05 56 96 96 96          wyatt.girard@yahoo.fr\n",
            "42   Isabelle       Mercier   +33 03 80 73 66 99      isabelle_mercier@apple.fr\n",
            "43      Terhi    Hämäläinen     +358 09 870 2000      terhi.hamalainen@apple.fi\n",
            "44   Ladislav        Kovács                 None       ladislav_kovacs@apple.hu\n",
            "45       Hugh      O'Reilly      +353 01 6792424           hughoreilly@apple.ie\n",
            "46      Lucas       Mancini      +39 06 39733434         lucas.mancini@yahoo.it\n",
            "47   Johannes  Van der Berg      +31 020 6223130        johavanderberg@yahoo.nl\n",
            "48  Stanisław        Wójcik     +48 22 828 37 39         stanisław.wójcik@wp.pl\n",
            "49    Enrique         Muñoz      +34 914 454 454         enrique_munoz@yahoo.es\n",
            "50     Joakim     Johansson     +46 08-651 52 52      joakim.johansson@yahoo.se\n",
            "51       Emma         Jones    +44 020 7707 0707         emma_jones@hotmail.com\n",
            "52       Phil        Hughes    +44 020 7976 5722          phil.hughes@gmail.com\n",
            "53      Steve        Murray    +44 0131 315 3300          steve.murray@yahoo.uk\n",
            "54       Mark        Taylor   +61 (02) 9332 3633           mark.taylor@yahoo.au\n",
            "55      Diego     Gutiérrez  +54 (0)11 4311 4333       diego.gutierrez@yahoo.ar\n",
            "56       Luis         Rojas    +56 (0)2 635 4444             luisrojas@yahoo.cl\n",
            "57      Manoj        Pareek    +91 0124 39883988        manoj.pareek@rediff.com\n",
            "58       Puja    Srivastava     +91 080 22289999       puja_srivastava@yahoo.in\n"
          ]
        }
      ]
    },
    {
      "cell_type": "markdown",
      "source": [
        "EXTRACCION DE LOS DATOS DE LA DIMENSIÓN INVOICE_ITEMS"
      ],
      "metadata": {
        "id": "nDlkj8ZNdnsT"
      }
    },
    {
      "cell_type": "code",
      "source": [
        "query_invoicesItems = '''SELECT UnitPrice,Quantity FROM invoice_items;'''\n",
        "result_invoicesItems = conectarDB.execute(query_invoicesItems)\n",
        "df_invoicesItems = pd.DataFrame(result_invoicesItems.fetchall())\n",
        "df_invoicesItems.columns = result_invoicesItems.keys()\n",
        "print(df_invoicesItems)"
      ],
      "metadata": {
        "colab": {
          "base_uri": "https://localhost:8080/"
        },
        "id": "ixfeC-WKfKX2",
        "outputId": "e462ad58-0a74-4266-c922-3240fbb9f8ac"
      },
      "execution_count": 7,
      "outputs": [
        {
          "output_type": "stream",
          "name": "stdout",
          "text": [
            "      UnitPrice  Quantity\n",
            "0          0.99         1\n",
            "1          0.99         1\n",
            "2          0.99         1\n",
            "3          0.99         1\n",
            "4          0.99         1\n",
            "...         ...       ...\n",
            "2235       0.99         1\n",
            "2236       0.99         1\n",
            "2237       0.99         1\n",
            "2238       0.99         1\n",
            "2239       1.99         1\n",
            "\n",
            "[2240 rows x 2 columns]\n"
          ]
        }
      ]
    },
    {
      "cell_type": "markdown",
      "source": [
        "EXTRACCION DE LOS DATOS DE LA DIMENSIÓN LOCATION"
      ],
      "metadata": {
        "id": "rGd36XiIdn0M"
      }
    },
    {
      "cell_type": "code",
      "source": [
        "query_location = '''SELECT c.Address AS BillingAddress,\n",
        "                        c.City AS BillingCity,\n",
        "                        c.Country AS BillingCountry,\n",
        "                        s.States AS BillingState\n",
        "                    FROM customers c\n",
        "                    INNER JOIN State  s ON s.id_customers = c.CustomerId;'''\n",
        "result_location = conectarDB.execute(query_location)\n",
        "df_location = pd.DataFrame(result_location.fetchall())\n",
        "df_location.columns = result_location.keys()\n",
        "print(df_location)"
      ],
      "metadata": {
        "colab": {
          "base_uri": "https://localhost:8080/"
        },
        "id": "J0aIeUICgE8P",
        "outputId": "485bb49b-0012-4a16-a98b-7fde6f4ec223"
      },
      "execution_count": 8,
      "outputs": [
        {
          "output_type": "stream",
          "name": "stdout",
          "text": [
            "                              BillingAddress  ...              BillingState\n",
            "0            Av. Brigadeiro Faria Lima, 2170  ...                 São Paulo\n",
            "1                    Theodor-Heuss-Straße 34  ...          Baden-Wurtemberg\n",
            "2                          1498 rue Bélanger  ...                    Quebec\n",
            "3                           Ullevålsveien 14  ...                  Akershus\n",
            "4                              Klanova 9/506  ...                 austriaca\n",
            "5                              Rilská 3174/6  ...                 austriaca\n",
            "6       Rotenturmstraße 4, 1010 Innere Stadt  ...                  Federado\n",
            "7                            Grétrystraat 63  ...                   Brussel\n",
            "8                        Sønder Boulevard 51  ...               Hovedstaden\n",
            "9                  Rua Dr. Falcão Filho, 155  ...                 São Paulo\n",
            "10                        Av. Paulista, 2022  ...                 São Paulo\n",
            "11                          Praça Pio X, 119  ...            Rio de Janeiro\n",
            "12                              Qe 7 Bloco G  ...          Distrito Federal\n",
            "13                            8210 111 ST NW  ...                   Alberta\n",
            "14                       700 W Pender Street  ...        Columbia Brit nica\n",
            "15                 1600 Amphitheatre Parkway  ...                California\n",
            "16                           1 Microsoft Way  ...                Washington\n",
            "17                              627 Broadway  ...                  New York\n",
            "18                           1 Infinite Loop  ...                California\n",
            "19                      541 Del Medio Avenue  ...                California\n",
            "20                          801 W 4th Street  ...                    Nevada\n",
            "21                          120 S Orange Ave  ...                   Florida\n",
            "22                           69 Salem Street  ...             Massachusetts\n",
            "23                     162 E Superior Street  ...                  Illinois\n",
            "24                     319 N. Frances Street  ...                 Wisconsin\n",
            "25                       2211 W Berry Street  ...                     Texas\n",
            "26                           1033 N Park Ave  ...                   Arizona\n",
            "27                               302 S 700 E  ...                      Utah\n",
            "28                    796 Dundas Street West  ...                   Ontario\n",
            "29                          230 Elgin Street  ...                   Ontario\n",
            "30                     194A Chain Lake Drive  ...             Nueva Escocia\n",
            "31                        696 Osborne Street  ...                  Manitoba\n",
            "32                            5112 48 Street  ...  Territorios del Noroeste\n",
            "33                        Rua da Assunção 53  ...              Tarraconense\n",
            "34  Rua dos Campeões Europeus de Viena, 4350  ...                    Oporto\n",
            "35                        Tauentzienstraße 8  ...                   Berlins\n",
            "36                          Berger Straße 10  ...                     Hesse\n",
            "37                       Barbarossastraße 19  ...                   Berlins\n",
            "38                             4, Rue Milton  ...           Isla de Francia\n",
            "39                            8, Rue Hanovre  ...           Isla de Francia\n",
            "40                       11, Place Bellecour  ...     Auvernia R¢dano Alpes\n",
            "41                    9, Place Louis Barthou  ...                   Gironda\n",
            "42                          68, Rue Jouvence  ...            Borgoña Franco\n",
            "43                           Porthaninkatu 9  ...             GranÿHelsinki\n",
            "44                         Erzsébet krt. 58.  ...                      Otan\n",
            "45                          3 Chatham Street  ...                 New Delhi\n",
            "46                    Via Degli Scipioni, 43  ...                      Roma\n",
            "47                     Lijnbaansgracht 120bg  ...             Noord Holland\n",
            "48                              Ordynacka 10  ...                   Mazovia\n",
            "49                        C/ San Bernardo 85  ...                    Madrid\n",
            "50                               Celsiusg. 9  ...                Estocolmoÿ\n",
            "51                         202 Hoxton Street  ...              Gran Londres\n",
            "52                              113 Lupus St  ...              Gran Londres\n",
            "53                            110 Raeburn Pl  ...              Gran Londres\n",
            "54                         421 Bourke Street  ...       Nueva Gales del Sur\n",
            "55                        307 Macacha Güemes  ...              Buenos Aires\n",
            "56                           Calle Lira, 198  ...             Gran Santiago\n",
            "57                       12,Community Centre  ...                     Delhi\n",
            "58                         3,Raj Bhavan Road  ...                 Karnataka\n",
            "\n",
            "[59 rows x 4 columns]\n"
          ]
        }
      ]
    },
    {
      "cell_type": "markdown",
      "source": [
        "EXTRACCION DE LOS DATOS DE LA DIMENSIÓN PLAYLIST"
      ],
      "metadata": {
        "id": "Zzz88jhDdoT_"
      }
    },
    {
      "cell_type": "code",
      "source": [
        "query_playlist = '''SELECT Name \n",
        "               FROM playlists;'''\n",
        "result_playlist = conectarDB.execute(query_playlist)\n",
        "df_playlist = pd.DataFrame(result_playlist.fetchall())\n",
        "df_playlist.columns = result_playlist.keys()\n",
        "print(df_playlist)"
      ],
      "metadata": {
        "colab": {
          "base_uri": "https://localhost:8080/"
        },
        "id": "p1Ni2JfVhYWI",
        "outputId": "089d52a5-c27a-4850-8578-3bd429829aed"
      },
      "execution_count": 31,
      "outputs": [
        {
          "output_type": "stream",
          "name": "stdout",
          "text": [
            "                          Name\n",
            "0                        Music\n",
            "1                       Movies\n",
            "2                     TV Shows\n",
            "3                   Audiobooks\n",
            "4                   90’s Music\n",
            "5                   Audiobooks\n",
            "6                       Movies\n",
            "7                        Music\n",
            "8                 Music Videos\n",
            "9                     TV Shows\n",
            "10             Brazilian Music\n",
            "11                   Classical\n",
            "12   Classical 101 - Deep Cuts\n",
            "13  Classical 101 - Next Steps\n",
            "14  Classical 101 - The Basics\n",
            "15                      Grunge\n",
            "16         Heavy Metal Classic\n",
            "17                 On-The-Go 1\n"
          ]
        }
      ]
    },
    {
      "cell_type": "markdown",
      "source": [
        "EXTRACCION DE LOS DATOS DE LA DIMENSIÓN TRACK"
      ],
      "metadata": {
        "id": "_pOlfDDEdoYn"
      }
    },
    {
      "cell_type": "code",
      "source": [
        "query_track = '''SELECT T.Name AS Name_Track,\n",
        "                    M.Name AS MediaType,\n",
        "                    G.Name AS Genre,\n",
        "                    T.Composer,\n",
        "                    T.Milliseconds,\n",
        "                    T.Bytes,\n",
        "                    T.UnitPrice\n",
        "                FROM tracks T\n",
        "                    INNER JOIN\n",
        "                    media_types M ON M.MediaTypeId = T.MediaTypeId\n",
        "                    INNER JOIN\n",
        "                    genres G ON G.GenreId = T.GenreId;'''\n",
        "result_track = conectarDB.execute(query_track)\n",
        "df_track = pd.DataFrame(result_track.fetchall())\n",
        "df_track.columns = result_track.keys()\n",
        "print(df_track)"
      ],
      "metadata": {
        "colab": {
          "base_uri": "https://localhost:8080/"
        },
        "id": "Jttstlq3i1zR",
        "outputId": "262098ae-0e0e-4662-b44a-f45afd2012c5"
      },
      "execution_count": 10,
      "outputs": [
        {
          "output_type": "stream",
          "name": "stdout",
          "text": [
            "                                             Name_Track  ... UnitPrice\n",
            "0               For Those About To Rock (We Salute You)  ...      0.99\n",
            "1                                     Balls to the Wall  ...      0.99\n",
            "2                                       Fast As a Shark  ...      0.99\n",
            "3                                     Restless and Wild  ...      0.99\n",
            "4                                  Princess of the Dawn  ...      0.99\n",
            "...                                                 ...  ...       ...\n",
            "3498  Pini Di Roma (Pinien Von Rom) \\ I Pini Della V...  ...      0.99\n",
            "3499  String Quartet No. 12 in C Minor, D. 703 \"Quar...  ...      0.99\n",
            "3500               L'orfeo, Act 3, Sinfonia (Orchestra)  ...      0.99\n",
            "3501  Quintet for Horn, Violin, 2 Violas, and Cello ...  ...      0.99\n",
            "3502  Die Zauberflöte, K.620: \"Der Hölle Rache Kocht...  ...      0.99\n",
            "\n",
            "[3503 rows x 7 columns]\n"
          ]
        }
      ]
    },
    {
      "cell_type": "markdown",
      "source": [
        "EXTRACCION DE LOS DATOS DE LA DIMENSIÓN TIEMPO"
      ],
      "metadata": {
        "id": "H3wm-znadogf"
      }
    },
    {
      "cell_type": "code",
      "source": [
        "date = pd.date_range('2009-01-01','2013-12-30',freq='D').to_series()\n",
        "dates = pd.to_datetime(date) \n",
        "day = dates.dt.day\n",
        "month = dates.dt.month\n",
        "year = dates.dt.year\n",
        "quarter = dates.dt.quarter\n",
        "week = dates.dt.week\n",
        "weekday = dates.dt.weekday\n",
        "day_name = dates.dt.day_name()\n",
        "month_name = dates.dt.month_name()\n",
        "    \n",
        "df_date = pd.DataFrame({'Date':list(dates),'Day':list(day),'Month':list(month),'Year':list(year),'Quarter':list(quarter),'Week':list(week),'Weekday':list(weekday),'Name_Day':list(day_name),'Name_Month':list(month_name)})\n",
        "print(df_date)"
      ],
      "metadata": {
        "colab": {
          "base_uri": "https://localhost:8080/"
        },
        "id": "5nsZKs23jUVY",
        "outputId": "25c606cc-e556-4af8-c3e5-d42370abfcdd"
      },
      "execution_count": 11,
      "outputs": [
        {
          "output_type": "stream",
          "name": "stdout",
          "text": [
            "           Date  Day  Month  Year  Quarter  Week  Weekday  Name_Day Name_Month\n",
            "0    2009-01-01    1      1  2009        1     1        3  Thursday    January\n",
            "1    2009-01-02    2      1  2009        1     1        4    Friday    January\n",
            "2    2009-01-03    3      1  2009        1     1        5  Saturday    January\n",
            "3    2009-01-04    4      1  2009        1     1        6    Sunday    January\n",
            "4    2009-01-05    5      1  2009        1     2        0    Monday    January\n",
            "...         ...  ...    ...   ...      ...   ...      ...       ...        ...\n",
            "1820 2013-12-26   26     12  2013        4    52        3  Thursday   December\n",
            "1821 2013-12-27   27     12  2013        4    52        4    Friday   December\n",
            "1822 2013-12-28   28     12  2013        4    52        5  Saturday   December\n",
            "1823 2013-12-29   29     12  2013        4    52        6    Sunday   December\n",
            "1824 2013-12-30   30     12  2013        4     1        0    Monday   December\n",
            "\n",
            "[1825 rows x 9 columns]\n"
          ]
        },
        {
          "output_type": "stream",
          "name": "stderr",
          "text": [
            "/usr/local/lib/python3.7/dist-packages/ipykernel_launcher.py:7: FutureWarning: Series.dt.weekofyear and Series.dt.week have been deprecated.  Please use Series.dt.isocalendar().week instead.\n",
            "  import sys\n"
          ]
        }
      ]
    },
    {
      "cell_type": "markdown",
      "source": [
        "EXTRACCION DE LOS DATOS DE LA DIMENSIÓN DE HECHO"
      ],
      "metadata": {
        "id": "dhCRhGibkG3g"
      }
    },
    {
      "cell_type": "code",
      "source": [
        "query_hecho = '''SELECT INV.InvoiceLineId AS InvoiceLineId,\n",
        "                C.CustomerId AS CustomerId,\n",
        "                I.InvoiceId AS TimeId,\n",
        "                I.InvoiceId AS LocationId,\n",
        "                T.TrackId,\n",
        "                PL.PlaylistId AS PlaylistId,\n",
        "                AR.ArtistId AS ArtistId,\n",
        "                A.AlbumId AS AlbumId,\n",
        "                I.Total\n",
        "            FROM employees E\n",
        "                INNER JOIN customers C ON C.SupportRepId = E.EmployeeId\n",
        "                INNER JOIN invoices I ON I.CustomerId = C.CustomerId\n",
        "                INNER JOIN invoice_items INV ON INV.InvoiceId = I.InvoiceId\n",
        "                INNER JOIN tracks T ON T.TrackId = INV.TrackId\n",
        "                INNER JOIN playlist_track P ON P.TrackId = T.TrackId\n",
        "                INNER JOIN playlists PL ON PL.PlaylistId = P.PlaylistId\n",
        "                INNER JOIN albums A ON A.AlbumId = T.AlbumId\n",
        "                INNER JOIN artists AR ON AR.ArtistId = A.ArtistId\n",
        "                GROUP BY INV.InvoiceLineId'''\n",
        "result_hecho  = conectarDB.execute(query_hecho )\n",
        "df_hecho  = pd.DataFrame(result_hecho .fetchall())\n",
        "df_hecho .columns = result_hecho .keys()\n",
        "print(df_hecho )"
      ],
      "metadata": {
        "colab": {
          "base_uri": "https://localhost:8080/"
        },
        "id": "l_T7iKnUkGGi",
        "outputId": "a5e00427-3f48-4de5-8c85-d9be9a2af7b1"
      },
      "execution_count": 12,
      "outputs": [
        {
          "output_type": "stream",
          "name": "stdout",
          "text": [
            "      InvoiceLineId  CustomerId  TimeId  ...  ArtistId  AlbumId  Total\n",
            "0                 1           2       1  ...         2        2   1.98\n",
            "1                 2           2       1  ...         2        3   1.98\n",
            "2                 3           4       2  ...         1        1   3.96\n",
            "3                 4           4       2  ...         1        1   3.96\n",
            "4                 5           4       2  ...         1        1   3.96\n",
            "...             ...         ...     ...  ...       ...      ...    ...\n",
            "2235           2236          44     411  ...       100      141  13.86\n",
            "2236           2237          44     411  ...       100      141  13.86\n",
            "2237           2238          44     411  ...       155      248  13.86\n",
            "2238           2239          44     411  ...       155      248  13.86\n",
            "2239           2240          58     412  ...       156      249   1.99\n",
            "\n",
            "[2240 rows x 9 columns]\n"
          ]
        }
      ]
    },
    {
      "cell_type": "markdown",
      "source": [
        "# **TRASFORMACIÓN**"
      ],
      "metadata": {
        "id": "Yk3XPCm1k9jb"
      }
    },
    {
      "cell_type": "markdown",
      "source": [
        "TRANSFORMACIÓN DE LOS DATOS CUSTUMER (LIMPIEZA DE DATOS)                          "
      ],
      "metadata": {
        "id": "CSkROAPXlFOZ"
      }
    },
    {
      "cell_type": "code",
      "source": [
        " df_customer = df_customer.fillna({\"FirstName\": \"NA\",\"LastName\": \"NA\",\"Phone\":\"9999999999\",\"Email\":\"NA\"})\n",
        " print(df_customer)"
      ],
      "metadata": {
        "colab": {
          "base_uri": "https://localhost:8080/"
        },
        "id": "PDL7VSKzlE0g",
        "outputId": "f08e147b-7aed-4423-b90b-ac67d01981bc"
      },
      "execution_count": 13,
      "outputs": [
        {
          "output_type": "stream",
          "name": "stdout",
          "text": [
            "    FirstName      LastName                Phone                          Email\n",
            "0        Luís     Gonçalves   +55 (12) 3923-5555           luisg@embraer.com.br\n",
            "1      Leonie        Köhler     +49 0711 2842222          leonekohler@surfeu.de\n",
            "2    François      Tremblay    +1 (514) 721-4711            ftremblay@gmail.com\n",
            "3       Bjørn        Hansen      +47 22 44 22 22          bjorn.hansen@yahoo.no\n",
            "4   František   Wichterlová     +420 2 4172 5555       frantisekw@jetbrains.com\n",
            "5      Helena          Holý     +420 2 4177 0449                hholy@gmail.com\n",
            "6      Astrid        Gruber       +43 01 5134505         astrid.gruber@apple.at\n",
            "7        Daan       Peeters     +32 02 219 03 03          daan_peeters@apple.be\n",
            "8        Kara       Nielsen       +453 3331 9991          kara.nielsen@jubii.dk\n",
            "9     Eduardo       Martins   +55 (11) 3033-5446       eduardo@woodstock.com.br\n",
            "10  Alexandre         Rocha   +55 (11) 3055-3278               alero@uol.com.br\n",
            "11    Roberto       Almeida   +55 (21) 2271-7000  roberto.almeida@riotur.gov.br\n",
            "12   Fernanda         Ramos   +55 (61) 3363-5547       fernadaramos4@uol.com.br\n",
            "13       Mark       Philips    +1 (780) 434-4554             mphilips12@shaw.ca\n",
            "14   Jennifer      Peterson    +1 (604) 688-2255            jenniferp@rogers.ca\n",
            "15      Frank        Harris    +1 (650) 253-0000             fharris@google.com\n",
            "16       Jack         Smith    +1 (425) 882-8080        jacksmith@microsoft.com\n",
            "17   Michelle        Brooks    +1 (212) 221-3546              michelleb@aol.com\n",
            "18        Tim         Goyer    +1 (408) 996-1010               tgoyer@apple.com\n",
            "19        Dan        Miller    +1 (650) 644-3358            dmiller@comcast.com\n",
            "20      Kathy         Chase    +1 (775) 223-7665            kachase@hotmail.com\n",
            "21    Heather       Leacock    +1 (407) 999-7788             hleacock@gmail.com\n",
            "22       John        Gordon    +1 (617) 522-1333         johngordon22@yahoo.com\n",
            "23      Frank       Ralston    +1 (312) 332-3232             fralston@gmail.com\n",
            "24     Victor       Stevens    +1 (608) 257-0597             vstevens@yahoo.com\n",
            "25    Richard    Cunningham    +1 (817) 924-7272       ricunningham@hotmail.com\n",
            "26    Patrick          Gray    +1 (520) 622-4200           patrick.gray@aol.com\n",
            "27      Julia       Barnett    +1 (801) 531-7272            jubarnett@gmail.com\n",
            "28     Robert         Brown    +1 (416) 363-8888               robbrown@shaw.ca\n",
            "29     Edward       Francis    +1 (613) 234-3322            edfrancis@yachoo.ca\n",
            "30     Martha          Silk    +1 (902) 450-0450           marthasilk@gmail.com\n",
            "31      Aaron      Mitchell    +1 (204) 452-6452         aaronmitchell@yahoo.ca\n",
            "32      Ellie      Sullivan    +1 (867) 920-2233         ellie.sullivan@shaw.ca\n",
            "33       João     Fernandes   +351 (213) 466-111            jfernandes@yahoo.pt\n",
            "34   Madalena       Sampaio   +351 (225) 022-448              masampaio@sapo.pt\n",
            "35     Hannah     Schneider     +49 030 26550280      hannah.schneider@yahoo.de\n",
            "36       Fynn    Zimmermann     +49 069 40598889           fzimmermann@yahoo.de\n",
            "37     Niklas      Schröder      +49 030 2141444            nschroder@surfeu.de\n",
            "38    Camille       Bernard   +33 01 49 70 65 65       camille.bernard@yahoo.fr\n",
            "39  Dominique      Lefebvre   +33 01 47 42 71 71    dominiquelefebvre@gmail.com\n",
            "40       Marc        Dubois   +33 04 78 30 30 30        marc.dubois@hotmail.com\n",
            "41      Wyatt        Girard   +33 05 56 96 96 96          wyatt.girard@yahoo.fr\n",
            "42   Isabelle       Mercier   +33 03 80 73 66 99      isabelle_mercier@apple.fr\n",
            "43      Terhi    Hämäläinen     +358 09 870 2000      terhi.hamalainen@apple.fi\n",
            "44   Ladislav        Kovács           9999999999       ladislav_kovacs@apple.hu\n",
            "45       Hugh      O'Reilly      +353 01 6792424           hughoreilly@apple.ie\n",
            "46      Lucas       Mancini      +39 06 39733434         lucas.mancini@yahoo.it\n",
            "47   Johannes  Van der Berg      +31 020 6223130        johavanderberg@yahoo.nl\n",
            "48  Stanisław        Wójcik     +48 22 828 37 39         stanisław.wójcik@wp.pl\n",
            "49    Enrique         Muñoz      +34 914 454 454         enrique_munoz@yahoo.es\n",
            "50     Joakim     Johansson     +46 08-651 52 52      joakim.johansson@yahoo.se\n",
            "51       Emma         Jones    +44 020 7707 0707         emma_jones@hotmail.com\n",
            "52       Phil        Hughes    +44 020 7976 5722          phil.hughes@gmail.com\n",
            "53      Steve        Murray    +44 0131 315 3300          steve.murray@yahoo.uk\n",
            "54       Mark        Taylor   +61 (02) 9332 3633           mark.taylor@yahoo.au\n",
            "55      Diego     Gutiérrez  +54 (0)11 4311 4333       diego.gutierrez@yahoo.ar\n",
            "56       Luis         Rojas    +56 (0)2 635 4444             luisrojas@yahoo.cl\n",
            "57      Manoj        Pareek    +91 0124 39883988        manoj.pareek@rediff.com\n",
            "58       Puja    Srivastava     +91 080 22289999       puja_srivastava@yahoo.in\n"
          ]
        }
      ]
    },
    {
      "cell_type": "markdown",
      "source": [
        "\n",
        "TRANSFORMACIÓN DE LOS DATOS LOCATION (LIMPIEZA DE DATOS)\n",
        "\n"
      ],
      "metadata": {
        "id": "aX91gNpLnI0x"
      }
    },
    {
      "cell_type": "code",
      "source": [
        "df_track = df_track.fillna({\"Composer\": \"NA\"})\n",
        "print(df_track)"
      ],
      "metadata": {
        "colab": {
          "base_uri": "https://localhost:8080/"
        },
        "id": "DSGLGUHjnaWp",
        "outputId": "53bad716-db4c-4dfd-d7cc-7377ac834ac7"
      },
      "execution_count": 14,
      "outputs": [
        {
          "output_type": "stream",
          "name": "stdout",
          "text": [
            "                                             Name_Track  ... UnitPrice\n",
            "0               For Those About To Rock (We Salute You)  ...      0.99\n",
            "1                                     Balls to the Wall  ...      0.99\n",
            "2                                       Fast As a Shark  ...      0.99\n",
            "3                                     Restless and Wild  ...      0.99\n",
            "4                                  Princess of the Dawn  ...      0.99\n",
            "...                                                 ...  ...       ...\n",
            "3498  Pini Di Roma (Pinien Von Rom) \\ I Pini Della V...  ...      0.99\n",
            "3499  String Quartet No. 12 in C Minor, D. 703 \"Quar...  ...      0.99\n",
            "3500               L'orfeo, Act 3, Sinfonia (Orchestra)  ...      0.99\n",
            "3501  Quintet for Horn, Violin, 2 Violas, and Cello ...  ...      0.99\n",
            "3502  Die Zauberflöte, K.620: \"Der Hölle Rache Kocht...  ...      0.99\n",
            "\n",
            "[3503 rows x 7 columns]\n"
          ]
        }
      ]
    },
    {
      "cell_type": "markdown",
      "source": [
        "#**CARGA DE DATOS AL DATA MART**"
      ],
      "metadata": {
        "id": "2W6kF_-CnmOg"
      }
    },
    {
      "cell_type": "markdown",
      "source": [
        "FUNCION DE LA CARGA DE DATOS"
      ],
      "metadata": {
        "id": "loBrjzhSSIuV"
      }
    },
    {
      "cell_type": "code",
      "source": [
        "def cargar_datos_a_sql(datos, connectar, tabla_Nombre):\n",
        "\n",
        "    datos.to_sql(tabla_Nombre, connectar, if_exists='append', index=False)\n",
        "    termino = print(\"Carga Finalizada\")\n",
        "    conectarDB2.close()\n",
        "    return termino"
      ],
      "metadata": {
        "id": "4LoN9M9vx8Sv"
      },
      "execution_count": 21,
      "outputs": []
    },
    {
      "cell_type": "markdown",
      "source": [
        "CARGA DE DATOS ALBUMS"
      ],
      "metadata": {
        "id": "nkMcUT1uyhWp"
      }
    },
    {
      "cell_type": "code",
      "source": [
        "tabla_nombre = \"dim_albums\"\n",
        "cargar_datos_a_sql(df_Albums, conectarDB2, tabla_nombre)\n",
        "conectarDB2.close()"
      ],
      "metadata": {
        "colab": {
          "base_uri": "https://localhost:8080/"
        },
        "id": "kXV2FROqysEX",
        "outputId": "ebca0123-18ed-4aac-ab62-df9a9aff7620"
      },
      "execution_count": 16,
      "outputs": [
        {
          "output_type": "stream",
          "name": "stdout",
          "text": [
            "Carga Finalizada\n"
          ]
        }
      ]
    },
    {
      "cell_type": "markdown",
      "source": [
        "CARGA DE DATOS  ARTISTS"
      ],
      "metadata": {
        "id": "UBPoJKOGzqGu"
      }
    },
    {
      "cell_type": "code",
      "source": [
        "tabla_nombre = \"dim_artists\"\n",
        "cargar_datos_a_sql(df_artist, conectarDB2, tabla_nombre)\n"
      ],
      "metadata": {
        "colab": {
          "base_uri": "https://localhost:8080/"
        },
        "id": "jozTnW2pzpNV",
        "outputId": "58327756-6958-45e8-fdc8-6d32a3a747b0"
      },
      "execution_count": 26,
      "outputs": [
        {
          "output_type": "stream",
          "name": "stdout",
          "text": [
            "Carga Finalizada\n"
          ]
        }
      ]
    },
    {
      "cell_type": "markdown",
      "source": [
        "CARGA DE DATOS CUSTOMER\n",
        "\n"
      ],
      "metadata": {
        "id": "PYaInPfn10Zn"
      }
    },
    {
      "cell_type": "code",
      "source": [
        "tabla_nombre = \"dim_customers\"\n",
        "cargar_datos_a_sql(df_customer, conectarDB2, tabla_nombre)"
      ],
      "metadata": {
        "colab": {
          "base_uri": "https://localhost:8080/"
        },
        "id": "LyxubsJu16Q_",
        "outputId": "b72966b6-84ac-461a-d485-5cb4e813e7b9"
      },
      "execution_count": 27,
      "outputs": [
        {
          "output_type": "stream",
          "name": "stdout",
          "text": [
            "Carga Finalizada\n"
          ]
        }
      ]
    },
    {
      "cell_type": "markdown",
      "source": [
        "CARGA DE DATOS INVOICES_ITEMS"
      ],
      "metadata": {
        "id": "Rmhb3a-92O6H"
      }
    },
    {
      "cell_type": "code",
      "source": [
        "tabla_nombre = \"dim_invoice_items\"\n",
        "cargar_datos_a_sql(df_invoicesItems, conectarDB2, tabla_nombre)"
      ],
      "metadata": {
        "colab": {
          "base_uri": "https://localhost:8080/"
        },
        "id": "qjrUAWKj2W74",
        "outputId": "028b1e22-a622-4f0e-fc8e-a700a01420ca"
      },
      "execution_count": 28,
      "outputs": [
        {
          "output_type": "stream",
          "name": "stdout",
          "text": [
            "Carga Finalizada\n"
          ]
        }
      ]
    },
    {
      "cell_type": "markdown",
      "source": [
        "CARGA DE DATOS LOCATION"
      ],
      "metadata": {
        "id": "CxSm8dFYRzVB"
      }
    },
    {
      "cell_type": "code",
      "source": [
        "tabla_nombre = \"dim_location\"\n",
        "cargar_datos_a_sql(df_location, conectarDB2, tabla_nombre)"
      ],
      "metadata": {
        "colab": {
          "base_uri": "https://localhost:8080/"
        },
        "id": "oIH118SER6Wh",
        "outputId": "c8eeab55-ac05-44e8-ca06-849017b5fc6e"
      },
      "execution_count": 29,
      "outputs": [
        {
          "output_type": "stream",
          "name": "stdout",
          "text": [
            "Carga Finalizada\n"
          ]
        }
      ]
    },
    {
      "cell_type": "markdown",
      "source": [
        "CARGA DE DATOS PLAYLIST"
      ],
      "metadata": {
        "id": "euIpqC6vScQS"
      }
    },
    {
      "cell_type": "code",
      "source": [
        "tabla_nombre = \"dim_playlists\"\n",
        "cargar_datos_a_sql(df_playlist, conectarDB2, tabla_nombre)"
      ],
      "metadata": {
        "colab": {
          "base_uri": "https://localhost:8080/"
        },
        "id": "ukiR0ai0Sg87",
        "outputId": "4f0e1213-ccc2-4a10-e565-723dca9e5b55"
      },
      "execution_count": 32,
      "outputs": [
        {
          "output_type": "stream",
          "name": "stdout",
          "text": [
            "Carga Finalizada\n"
          ]
        }
      ]
    },
    {
      "cell_type": "markdown",
      "source": [
        "CARGA DE DATOS TRACK"
      ],
      "metadata": {
        "id": "DG_tDMFlTHxi"
      }
    },
    {
      "cell_type": "code",
      "source": [
        "tabla_nombre = \"dim_tracks\"\n",
        "cargar_datos_a_sql(df_track, conectarDB2, tabla_nombre)"
      ],
      "metadata": {
        "colab": {
          "base_uri": "https://localhost:8080/"
        },
        "id": "7HYJoixmTjQq",
        "outputId": "863f178e-b857-4985-efec-cc1efa0af391"
      },
      "execution_count": 33,
      "outputs": [
        {
          "output_type": "stream",
          "name": "stdout",
          "text": [
            "Carga Finalizada\n"
          ]
        }
      ]
    },
    {
      "cell_type": "markdown",
      "source": [
        "CARGA DE DATOS TIME"
      ],
      "metadata": {
        "id": "cghIkD2vT9jK"
      }
    },
    {
      "cell_type": "code",
      "source": [
        "tabla_nombre = \"dim_time\"\n",
        "cargar_datos_a_sql(df_date, conectarDB2, tabla_nombre)"
      ],
      "metadata": {
        "colab": {
          "base_uri": "https://localhost:8080/"
        },
        "id": "kx81mTjRUGqx",
        "outputId": "89f8d925-ab93-41c2-db88-09e13dc3afd2"
      },
      "execution_count": 34,
      "outputs": [
        {
          "output_type": "stream",
          "name": "stdout",
          "text": [
            "Carga Finalizada\n"
          ]
        }
      ]
    },
    {
      "cell_type": "markdown",
      "source": [
        "CARGA DE DATOS HECHO"
      ],
      "metadata": {
        "id": "a2G5XJ5ray7l"
      }
    },
    {
      "cell_type": "code",
      "source": [
        "tabla_nombre = \"Fact_invoice_item\"\n",
        "cargar_datos_a_sql(df_hecho, conectarDB2, tabla_nombre)"
      ],
      "metadata": {
        "colab": {
          "base_uri": "https://localhost:8080/"
        },
        "id": "2IPjYJmLa1Xl",
        "outputId": "cc7a487f-3320-4f57-aa83-fd7f8abf6bdc"
      },
      "execution_count": 35,
      "outputs": [
        {
          "output_type": "stream",
          "name": "stdout",
          "text": [
            "Carga Finalizada\n"
          ]
        }
      ]
    }
  ]
}